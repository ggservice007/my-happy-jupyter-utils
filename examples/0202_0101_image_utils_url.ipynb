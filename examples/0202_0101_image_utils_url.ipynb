{
 "cells": [
  {
   "cell_type": "markdown",
   "metadata": {},
   "source": [
    "# image utils -  url"
   ]
  },
  {
   "cell_type": "code",
   "execution_count": 3,
   "metadata": {},
   "outputs": [
    {
     "data": {
      "text/html": [
       "<a href=\"https://dhtmlx.com/blog/wp-content/uploads/2018/04/javascript-flowchart.png\" target=\"blank\"><h4>flow chart</h4></a>\n",
       "<img src=\"https://dhtmlx.com/blog/wp-content/uploads/2018/04/javascript-flowchart.png\" style=\"max-width: 100%\" />"
      ],
      "text/plain": [
       "<IPython.core.display.HTML object>"
      ]
     },
     "execution_count": 3,
     "metadata": {},
     "output_type": "execute_result"
    }
   ],
   "source": [
    "from my_happy_jupyter_utils import (\n",
    "  image_utils\n",
    ")\n",
    "\n",
    "\n",
    "image_utils.show_image_with_title_by_url({\n",
    "    'url': '/'.join([\n",
    "        'https://dhtmlx.com/blog',\n",
    "        'wp-content/uploads/2018/04',\n",
    "        'javascript-flowchart.png'\n",
    "    ]),\n",
    "    'title': 'flow chart',\n",
    "})"
   ]
  },
  {
   "cell_type": "code",
   "execution_count": null,
   "metadata": {},
   "outputs": [],
   "source": []
  }
 ],
 "metadata": {
  "kernelspec": {
   "display_name": "Python 3",
   "language": "python",
   "name": "python3"
  },
  "language_info": {
   "codemirror_mode": {
    "name": "ipython",
    "version": 3
   },
   "file_extension": ".py",
   "mimetype": "text/x-python",
   "name": "python",
   "nbconvert_exporter": "python",
   "pygments_lexer": "ipython3",
   "version": "3.7.7"
  }
 },
 "nbformat": 4,
 "nbformat_minor": 4
}
