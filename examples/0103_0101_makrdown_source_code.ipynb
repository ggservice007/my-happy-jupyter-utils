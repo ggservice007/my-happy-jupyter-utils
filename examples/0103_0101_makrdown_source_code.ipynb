{
 "cells": [
  {
   "cell_type": "markdown",
   "metadata": {},
   "source": [
    "# source code"
   ]
  },
  {
   "cell_type": "code",
   "execution_count": 1,
   "metadata": {},
   "outputs": [
    {
     "data": {
      "text/markdown": [
       "#### show me\n",
       "```python\n",
       "    def show_me():\n",
       "        print('show me')\n",
       "```"
      ],
      "text/plain": [
       "<IPython.core.display.Markdown object>"
      ]
     },
     "execution_count": 1,
     "metadata": {},
     "output_type": "execute_result"
    }
   ],
   "source": [
    "import inspect\n",
    "\n",
    "from my_happy_jupyter_utils import (\n",
    "    markdown_utils\n",
    ")\n",
    "\n",
    "class Test:\n",
    "    def show_me():\n",
    "        print('show me')\n",
    "\n",
    "content = inspect.getsource(Test.show_me)\n",
    "\n",
    "markdown_utils.get_source_code({\n",
    "    'content': content,\n",
    "    'title': 'show me',\n",
    "    'language': 'python'\n",
    "})\n"
   ]
  },
  {
   "cell_type": "code",
   "execution_count": null,
   "metadata": {},
   "outputs": [],
   "source": []
  }
 ],
 "metadata": {
  "kernelspec": {
   "display_name": "Python 3",
   "language": "python",
   "name": "python3"
  },
  "language_info": {
   "codemirror_mode": {
    "name": "ipython",
    "version": 3
   },
   "file_extension": ".py",
   "mimetype": "text/x-python",
   "name": "python",
   "nbconvert_exporter": "python",
   "pygments_lexer": "ipython3",
   "version": "3.7.7"
  }
 },
 "nbformat": 4,
 "nbformat_minor": 4
}
