{
 "cells": [
  {
   "cell_type": "markdown",
   "metadata": {},
   "source": [
    "# markdown utils - file path"
   ]
  },
  {
   "cell_type": "markdown",
   "metadata": {},
   "source": [
    "## code snippet - no title"
   ]
  },
  {
   "cell_type": "code",
   "execution_count": 1,
   "metadata": {},
   "outputs": [
    {
     "data": {
      "text/markdown": [
       "```python\n",
       "def hello():\n",
       "    print('hello')\n",
       "```"
      ],
      "text/plain": [
       "<IPython.core.display.Markdown object>"
      ]
     },
     "execution_count": 1,
     "metadata": {},
     "output_type": "execute_result"
    }
   ],
   "source": [
    "from my_happy_jupyter_utils import (\n",
    "  markdown_utils\n",
    ")\n",
    "\n",
    "\n",
    "markdown_utils.get_code_snippet({\n",
    "    'file_path': '/'.join([\n",
    "        'data/code',\n",
    "        'hello.py'\n",
    "    ]),\n",
    "    'title': '',\n",
    "    'show_line_number': False,\n",
    "    'line_numbers': \"\",\n",
    "    'start_line_number': 1,\n",
    "    'end_line_number': 2,\n",
    "    'language': 'python'\n",
    "})"
   ]
  },
  {
   "cell_type": "markdown",
   "metadata": {},
   "source": [
    "## code snippet - title"
   ]
  },
  {
   "cell_type": "code",
   "execution_count": 2,
   "metadata": {},
   "outputs": [
    {
     "data": {
      "text/markdown": [
       "#### hello python\n",
       "```python\n",
       "def hello():\n",
       "    print('hello')\n",
       "```"
      ],
      "text/plain": [
       "<IPython.core.display.Markdown object>"
      ]
     },
     "execution_count": 2,
     "metadata": {},
     "output_type": "execute_result"
    }
   ],
   "source": [
    "from my_happy_jupyter_utils import (\n",
    "  markdown_utils\n",
    ")\n",
    "\n",
    "\n",
    "markdown_utils.get_code_snippet({\n",
    "    'file_path': '/'.join([\n",
    "        'data/code',\n",
    "        'hello.py'\n",
    "    ]),\n",
    "    'title': 'hello python',\n",
    "    'show_line_number': False,\n",
    "    'line_numbers': \"\",\n",
    "    'start_line_number': 1,\n",
    "    'end_line_number': 2,\n",
    "    'language': 'python'\n",
    "})"
   ]
  },
  {
   "cell_type": "markdown",
   "metadata": {},
   "source": [
    "## source code - no title"
   ]
  },
  {
   "cell_type": "code",
   "execution_count": 3,
   "metadata": {},
   "outputs": [
    {
     "data": {
      "text/markdown": [
       "```python\n",
       "def hello():\n",
       "    print('hello')\n",
       "```"
      ],
      "text/plain": [
       "<IPython.core.display.Markdown object>"
      ]
     },
     "execution_count": 3,
     "metadata": {},
     "output_type": "execute_result"
    }
   ],
   "source": [
    "from my_happy_jupyter_utils import (\n",
    "  markdown_utils\n",
    ")\n",
    "\n",
    "\n",
    "markdown_utils.get_content_with_line_number_by_url({\n",
    "    'file_path': '/'.join([\n",
    "        'data/code',\n",
    "        'hello.py'\n",
    "    ]),\n",
    "    'title': '',\n",
    "    'language': 'python',\n",
    "    'show_line_number': False,\n",
    "    'need_process_markdown': True\n",
    "})"
   ]
  },
  {
   "cell_type": "markdown",
   "metadata": {},
   "source": [
    "## source code - title"
   ]
  },
  {
   "cell_type": "code",
   "execution_count": 4,
   "metadata": {},
   "outputs": [
    {
     "data": {
      "text/markdown": [
       "#### shell demo\n",
       "\n",
       "```shell\n",
       "echo 'i am shell'\n",
       "echo 'so nice'\n",
       "```"
      ],
      "text/plain": [
       "<IPython.core.display.Markdown object>"
      ]
     },
     "execution_count": 4,
     "metadata": {},
     "output_type": "execute_result"
    }
   ],
   "source": [
    "from my_happy_jupyter_utils import (\n",
    "  markdown_utils\n",
    ")\n",
    "\n",
    "\n",
    "markdown_utils.get_content_with_line_number_by_url({\n",
    "    'file_path': '/'.join([\n",
    "        'data/code',\n",
    "        'shell_demo.sh'\n",
    "    ]),\n",
    "    'title': 'shell demo',\n",
    "    'language': 'shell',\n",
    "    'show_line_number': False,\n",
    "    'need_process_markdown': True\n",
    "})"
   ]
  },
  {
   "cell_type": "markdown",
   "metadata": {},
   "source": []
  }
 ],
 "metadata": {
  "kernelspec": {
   "display_name": "Python 3",
   "language": "python",
   "name": "python3"
  },
  "language_info": {
   "codemirror_mode": {
    "name": "ipython",
    "version": 3
   },
   "file_extension": ".py",
   "mimetype": "text/x-python",
   "name": "python",
   "nbconvert_exporter": "python",
   "pygments_lexer": "ipython3",
   "version": "3.7.7"
  }
 },
 "nbformat": 4,
 "nbformat_minor": 4
}
