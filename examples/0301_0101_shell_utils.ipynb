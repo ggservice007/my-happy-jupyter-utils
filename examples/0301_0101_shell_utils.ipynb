{
 "cells": [
  {
   "cell_type": "markdown",
   "metadata": {},
   "source": [
    "# shell utils"
   ]
  },
  {
   "cell_type": "code",
   "execution_count": 2,
   "metadata": {},
   "outputs": [
    {
     "name": "stdout",
     "output_type": "stream",
     "text": [
      "total 80\n",
      "dr-xr-xr-x.  19 root root  4096 Jan 28 11:13 .\n",
      "dr-xr-xr-x.  19 root root  4096 Jan 28 11:13 ..\n",
      "-rw-r--r--    1 root root     0 Jun 22  2020 .autorelabel\n",
      "lrwxrwxrwx.   1 root root     7 Jun 22  2020 bin -> usr/bin\n",
      "dr-xr-xr-x.   5 root root  4096 Jul  8  2020 boot\n",
      "drwxr-xr-x   19 root root  2960 Feb 10 12:34 dev\n",
      "drwxr-xr-x.  92 root root  4096 Jan 31 15:28 etc\n",
      "drwxr-xr-x    5 root root  4096 Jul  8  2020 happy_data\n",
      "drwxr-xr-x.   2 root root  4096 Apr 11  2018 home\n",
      "lrwxrwxrwx.   1 root root     7 Jun 22  2020 lib -> usr/lib\n",
      "lrwxrwxrwx.   1 root root     9 Jun 22  2020 lib64 -> usr/lib64\n",
      "drwx------.   2 root root 16384 Jun 22  2020 lost+found\n",
      "drwxr-xr-x.   2 root root  4096 Apr 11  2018 media\n",
      "drwxr-xr-x.   2 root root  4096 Apr 11  2018 mnt\n",
      "drwxr-xr-x.   3 root root  4096 Jul  8  2020 opt\n",
      "dr-xr-xr-x  199 root root     0 Feb 10 12:34 proc\n",
      "dr-xr-x---.  16 root root  4096 Feb  8 20:05 root\n",
      "drwxr-xr-x   28 root root   800 Feb 10 12:35 run\n",
      "lrwxrwxrwx.   1 root root     8 Jun 22  2020 sbin -> usr/sbin\n",
      "drwxr-xr-x.   2 root root  4096 Apr 11  2018 srv\n",
      "dr-xr-xr-x   13 root root     0 Feb 10  2021 sys\n",
      "drwxrwxrwt.  26 root root 12288 Feb 10 12:51 tmp\n",
      "drwxr-xr-x.  14 root root  4096 Jul  8  2020 usr\n",
      "drwxr-xr-x.  19 root root  4096 Jun 22  2020 var\n",
      "\n"
     ]
    }
   ],
   "source": [
    "from my_happy_jupyter_utils import (\n",
    "  shell_utils\n",
    ")\n",
    "\n",
    "commands = \"\"\"\n",
    "cd /\n",
    "\n",
    "ls -la\n",
    "\n",
    "\"\"\".strip()\n",
    "\n",
    "command_output = shell_utils.run_commands(commands)\n",
    "\n",
    "print(command_output)"
   ]
  },
  {
   "cell_type": "code",
   "execution_count": null,
   "metadata": {},
   "outputs": [],
   "source": []
  }
 ],
 "metadata": {
  "kernelspec": {
   "display_name": "Python 3",
   "language": "python",
   "name": "python3"
  },
  "language_info": {
   "codemirror_mode": {
    "name": "ipython",
    "version": 3
   },
   "file_extension": ".py",
   "mimetype": "text/x-python",
   "name": "python",
   "nbconvert_exporter": "python",
   "pygments_lexer": "ipython3",
   "version": "3.7.7"
  }
 },
 "nbformat": 4,
 "nbformat_minor": 4
}
