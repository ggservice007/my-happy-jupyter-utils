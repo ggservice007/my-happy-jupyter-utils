{
 "cells": [
  {
   "cell_type": "markdown",
   "metadata": {},
   "source": [
    "# markdown utils - url"
   ]
  },
  {
   "cell_type": "markdown",
   "metadata": {},
   "source": [
    "## code snippet"
   ]
  },
  {
   "cell_type": "code",
   "execution_count": 8,
   "metadata": {},
   "outputs": [
    {
     "data": {
      "text/markdown": [
       "```shell\n",
       "                                 Apache License\n",
       "                           Version 2.0, January 2004\n",
       "```"
      ],
      "text/plain": [
       "<IPython.core.display.Markdown object>"
      ]
     },
     "execution_count": 8,
     "metadata": {},
     "output_type": "execute_result"
    }
   ],
   "source": [
    "from my_happy_jupyter_utils import (\n",
    "  markdown_utils\n",
    ")\n",
    "\n",
    "\n",
    "markdown_utils.get_code_snippet({\n",
    "    'url': '/'.join([\n",
    "        'https://raw.githubusercontent.com/ggservice007',\n",
    "        'my-happy-jupyter-utils/default',\n",
    "        'LICENSE'\n",
    "    ]),\n",
    "    'title': '',\n",
    "    'show_line_number': False,\n",
    "    'line_numbers': \"\",\n",
    "    'start_line_number': 1,\n",
    "    'end_line_number': 2,\n",
    "    'language': 'shell'\n",
    "})\n"
   ]
  },
  {
   "cell_type": "markdown",
   "metadata": {},
   "source": [
    "## source code"
   ]
  },
  {
   "cell_type": "code",
   "execution_count": 15,
   "metadata": {},
   "outputs": [
    {
     "data": {
      "text/markdown": [
       "```python\n",
       "# Licensed to my_happy_modin Development Team under one or more contributor license agreements.\n",
       "# See the NOTICE file distributed with this work for additional information regarding\n",
       "# copyright ownership.  The my_happy_modin Development Team licenses this file to you under the\n",
       "# Apache License, Version 2.0 (the \"License\"); you may not use this file except in\n",
       "# compliance with the License.  You may obtain a copy of the License at\n",
       "#\n",
       "#     http://www.apache.org/licenses/LICENSE-2.0\n",
       "#\n",
       "# Unless required by applicable law or agreed to in writing, software distributed under\n",
       "# the License is distributed on an \"AS IS\" BASIS, WITHOUT WARRANTIES OR CONDITIONS OF\n",
       "# ANY KIND, either express or implied. See the License for the specific language\n",
       "# governing permissions and limitations under the License.\n",
       "\n",
       "import my_happy_pandas\n",
       "from my_happy_modin.config import Engine, Backend, IsExperimental\n",
       "\n",
       "\n",
       "def _inherit_func_docstring(source_func):\n",
       "    \"\"\"Define `func` docstring from `source_func`.\"\"\"\n",
       "\n",
       "    def decorator(func):\n",
       "        func.__doc__ = source_func.__doc__\n",
       "        return func\n",
       "\n",
       "    return decorator\n",
       "\n",
       "\n",
       "def _inherit_docstrings(parent, excluded=[]):\n",
       "    \"\"\"Creates a decorator which overwrites a decorated class' __doc__\n",
       "    attribute with parent's __doc__ attribute. Also overwrites __doc__ of\n",
       "    methods and properties defined in the class with the __doc__ of matching\n",
       "    methods and properties in parent.\n",
       "\n",
       "    Args:\n",
       "        parent (object): Class from which the decorated class inherits __doc__.\n",
       "        excluded (list): List of parent objects from which the class does not\n",
       "            inherit docstrings.\n",
       "\n",
       "    Returns:\n",
       "        function: decorator which replaces the decorated class' documentation\n",
       "            parent's documentation.\n",
       "    \"\"\"\n",
       "\n",
       "    def decorator(cls):\n",
       "        if parent not in excluded:\n",
       "            cls.__doc__ = parent.__doc__\n",
       "        for attr, obj in cls.__dict__.items():\n",
       "            parent_obj = getattr(parent, attr, None)\n",
       "            if parent_obj in excluded or (\n",
       "                not callable(parent_obj) and not isinstance(parent_obj, property)\n",
       "            ):\n",
       "                continue\n",
       "            if callable(obj):\n",
       "                obj.__doc__ = parent_obj.__doc__\n",
       "            elif isinstance(obj, property) and obj.fget is not None:\n",
       "                p = property(obj.fget, obj.fset, obj.fdel, parent_obj.__doc__)\n",
       "                setattr(cls, attr, p)\n",
       "        return cls\n",
       "\n",
       "    return decorator\n",
       "\n",
       "\n",
       "def to_pandas(modin_obj):\n",
       "    \"\"\"Converts a my_happy_modin DataFrame/Series to a pandas DataFrame/Series.\n",
       "\n",
       "    Args:\n",
       "        obj {my_happy_modin.DataFrame, my_happy_modin.Series}: The my_happy_modin DataFrame/Series to convert.\n",
       "\n",
       "    Returns:\n",
       "        A new pandas DataFrame or Series.\n",
       "    \"\"\"\n",
       "    return modin_obj._to_pandas()\n",
       "\n",
       "\n",
       "def hashable(obj):\n",
       "    \"\"\"Return whether the object is hashable.\"\"\"\n",
       "    try:\n",
       "        hash(obj)\n",
       "    except TypeError:\n",
       "        return False\n",
       "    return True\n",
       "\n",
       "\n",
       "def try_cast_to_pandas(obj, squeeze=False):\n",
       "    \"\"\"\n",
       "    Converts obj and all nested objects from my_happy_modin to pandas if it is possible,\n",
       "    otherwise returns obj\n",
       "\n",
       "    Parameters\n",
       "    ----------\n",
       "        obj : object,\n",
       "            object to convert from my_happy_modin to pandas\n",
       "\n",
       "    Returns\n",
       "    -------\n",
       "        Converted object\n",
       "    \"\"\"\n",
       "    if hasattr(obj, \"_to_pandas\"):\n",
       "        result = obj._to_pandas()\n",
       "        if squeeze:\n",
       "            result = result.squeeze(axis=1)\n",
       "        return result\n",
       "    if hasattr(obj, \"to_pandas\"):\n",
       "        result = obj.to_pandas()\n",
       "        if squeeze:\n",
       "            result = result.squeeze(axis=1)\n",
       "        # Query compiler case, it doesn't have logic about convertion to Series\n",
       "        if (\n",
       "            isinstance(getattr(result, \"name\", None), str)\n",
       "            and result.name == \"__reduced__\"\n",
       "        ):\n",
       "            result.name = None\n",
       "        return result\n",
       "    if isinstance(obj, (list, tuple)):\n",
       "        return type(obj)([try_cast_to_pandas(o, squeeze=squeeze) for o in obj])\n",
       "    if isinstance(obj, dict):\n",
       "        return {k: try_cast_to_pandas(v, squeeze=squeeze) for k, v in obj.items()}\n",
       "    if callable(obj):\n",
       "        module_hierarchy = getattr(obj, \"__module__\", \"\").split(\".\")\n",
       "        fn_name = getattr(obj, \"__name__\", None)\n",
       "        if fn_name and module_hierarchy[0] == \"my_happy_modin\":\n",
       "            return (\n",
       "                getattr(my_happy_pandas.DataFrame, fn_name, obj)\n",
       "                if module_hierarchy[-1] == \"dataframe\"\n",
       "                else getattr(my_happy_pandas.Series, fn_name, obj)\n",
       "            )\n",
       "    return obj\n",
       "\n",
       "\n",
       "def wrap_udf_function(func):\n",
       "    def wrapper(*args, **kwargs):\n",
       "        result = func(*args, **kwargs)\n",
       "        # if user accidently returns my_happy_modin DataFrame or Series\n",
       "        # casting it back to pandas to properly process\n",
       "        return try_cast_to_pandas(result)\n",
       "\n",
       "    wrapper.__name__ = func.__name__\n",
       "    return wrapper\n",
       "\n",
       "\n",
       "def get_current_backend():\n",
       "    return f\"{'Experimental' if IsExperimental.get() else ''}{Backend.get()}On{Engine.get()}\"\n",
       "\n",
       "```"
      ],
      "text/plain": [
       "<IPython.core.display.Markdown object>"
      ]
     },
     "execution_count": 15,
     "metadata": {},
     "output_type": "execute_result"
    }
   ],
   "source": [
    "from my_happy_jupyter_utils import (\n",
    "  markdown_utils\n",
    ")\n",
    "\n",
    "\n",
    "markdown_utils.get_content_with_line_number_by_url({\n",
    "    'url': '/'.join([\n",
    "        'https://raw.githubusercontent.com/ggservice007/my-happy-modin',\n",
    "        'default/src/my_happy_modin',\n",
    "        'utils.py'\n",
    "    ]),\n",
    "    'title': '',\n",
    "    'language': 'python',\n",
    "    'show_line_number': False,\n",
    "    'need_process_markdown': True\n",
    "})"
   ]
  },
  {
   "cell_type": "markdown",
   "metadata": {},
   "source": []
  },
  {
   "cell_type": "markdown",
   "metadata": {},
   "source": []
  },
  {
   "cell_type": "markdown",
   "metadata": {},
   "source": []
  },
  {
   "cell_type": "markdown",
   "metadata": {},
   "source": []
  }
 ],
 "metadata": {
  "kernelspec": {
   "display_name": "Python 3",
   "language": "python",
   "name": "python3"
  },
  "language_info": {
   "codemirror_mode": {
    "name": "ipython",
    "version": 3
   },
   "file_extension": ".py",
   "mimetype": "text/x-python",
   "name": "python",
   "nbconvert_exporter": "python",
   "pygments_lexer": "ipython3",
   "version": "3.7.7"
  }
 },
 "nbformat": 4,
 "nbformat_minor": 4
}
